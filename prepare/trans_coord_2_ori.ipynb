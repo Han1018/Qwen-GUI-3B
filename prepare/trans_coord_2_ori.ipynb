{
 "cells": [
  {
   "cell_type": "code",
   "execution_count": 1,
   "id": "a29351ba",
   "metadata": {},
   "outputs": [
    {
     "name": "stdout",
     "output_type": "stream",
     "text": [
      "Coordinates converted and saved to ../datasets/ShowUI-desktop/metadata/hf_train_ori_coord.json.\n"
     ]
    }
   ],
   "source": [
    "import json\n",
    "\n",
    "filepath =  '../datasets/ShowUI-desktop/metadata/hf_train.json'\n",
    "output_path = '../datasets/ShowUI-desktop/metadata/hf_train_ori_coord.json'\n",
    "\n",
    "# Load the JSON data\n",
    "with open(filepath, 'r') as file:\n",
    "    data = json.load(file)\n",
    "\n",
    "# Function to convert relative coordinates to absolute\n",
    "def convert_coordinates(data):\n",
    "    for item in data:\n",
    "        img_width, img_height = item[\"img_size\"]\n",
    "        for element in item[\"element\"]:\n",
    "            # Convert point\n",
    "            element[\"point\"] = [\n",
    "                element[\"point\"][0] * img_width,\n",
    "                element[\"point\"][1] * img_height\n",
    "            ]\n",
    "            # Convert bbox\n",
    "            element[\"bbox\"] = [\n",
    "                element[\"bbox\"][0] * img_width,\n",
    "                element[\"bbox\"][1] * img_height,\n",
    "                element[\"bbox\"][2] * img_width,\n",
    "                element[\"bbox\"][3] * img_height\n",
    "            ]\n",
    "    return data\n",
    "\n",
    "# Convert the coordinates\n",
    "converted_data = convert_coordinates(data)\n",
    "\n",
    "# Save the converted data back to a JSON file\n",
    "with open(output_path, 'w') as file:\n",
    "    json.dump(converted_data, file, indent=2)\n",
    "\n",
    "print(f\"Coordinates converted and saved to {output_path}.\")"
   ]
  }
 ],
 "metadata": {
  "kernelspec": {
   "display_name": "zonui",
   "language": "python",
   "name": "python3"
  },
  "language_info": {
   "codemirror_mode": {
    "name": "ipython",
    "version": 3
   },
   "file_extension": ".py",
   "mimetype": "text/x-python",
   "name": "python",
   "nbconvert_exporter": "python",
   "pygments_lexer": "ipython3",
   "version": "3.10.18"
  }
 },
 "nbformat": 4,
 "nbformat_minor": 5
}
